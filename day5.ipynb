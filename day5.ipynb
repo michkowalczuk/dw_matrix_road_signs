{
  "nbformat": 4,
  "nbformat_minor": 0,
  "metadata": {
    "colab": {
      "name": "day5.ipynb",
      "provenance": [],
      "collapsed_sections": [],
      "mount_file_id": "11W8WSVe5RmOvfLZ-5ushutgYz3DjcHzg",
      "authorship_tag": "ABX9TyPt/LLN/pfovMUN0wFmVxuv",
      "include_colab_link": true
    },
    "kernelspec": {
      "name": "python3",
      "display_name": "Python 3"
    },
    "accelerator": "GPU"
  },
  "cells": [
    {
      "cell_type": "markdown",
      "metadata": {
        "id": "view-in-github",
        "colab_type": "text"
      },
      "source": [
        "<a href=\"https://colab.research.google.com/github/michkowalczuk/dw_matrix_road_signs/blob/master/day5.ipynb\" target=\"_parent\"><img src=\"https://colab.research.google.com/assets/colab-badge.svg\" alt=\"Open In Colab\"/></a>"
      ]
    },
    {
      "cell_type": "markdown",
      "metadata": {
        "id": "EwHy5yanf-pf",
        "colab_type": "text"
      },
      "source": [
        "#####Imports"
      ]
    },
    {
      "cell_type": "code",
      "metadata": {
        "id": "Fpjf4ZnQViLr",
        "colab_type": "code",
        "colab": {
          "base_uri": "https://localhost:8080/",
          "height": 190
        },
        "outputId": "44e89459-3b0c-4c2b-ddc4-ee3755527d64"
      },
      "source": [
        "!pip install hyperopt"
      ],
      "execution_count": 1,
      "outputs": [
        {
          "output_type": "stream",
          "text": [
            "Requirement already satisfied: hyperopt in /usr/local/lib/python3.6/dist-packages (0.1.2)\n",
            "Requirement already satisfied: numpy in /usr/local/lib/python3.6/dist-packages (from hyperopt) (1.18.2)\n",
            "Requirement already satisfied: tqdm in /usr/local/lib/python3.6/dist-packages (from hyperopt) (4.38.0)\n",
            "Requirement already satisfied: scipy in /usr/local/lib/python3.6/dist-packages (from hyperopt) (1.4.1)\n",
            "Requirement already satisfied: networkx in /usr/local/lib/python3.6/dist-packages (from hyperopt) (2.4)\n",
            "Requirement already satisfied: pymongo in /usr/local/lib/python3.6/dist-packages (from hyperopt) (3.10.1)\n",
            "Requirement already satisfied: future in /usr/local/lib/python3.6/dist-packages (from hyperopt) (0.16.0)\n",
            "Requirement already satisfied: six in /usr/local/lib/python3.6/dist-packages (from hyperopt) (1.12.0)\n",
            "Requirement already satisfied: decorator>=4.3.0 in /usr/local/lib/python3.6/dist-packages (from networkx->hyperopt) (4.4.2)\n"
          ],
          "name": "stdout"
        }
      ]
    },
    {
      "cell_type": "code",
      "metadata": {
        "id": "RxzVLCV-WP-G",
        "colab_type": "code",
        "colab": {}
      },
      "source": [
        "import os\n",
        "import datetime\n",
        "\n",
        "import pandas as pd\n",
        "import numpy as np\n",
        "\n",
        "import matplotlib.pyplot as plt\n",
        "from skimage import color, exposure\n",
        "\n",
        "import tensorflow as tf\n",
        "from tensorflow.keras.models import Sequential\n",
        "from tensorflow.keras.layers import Conv2D, Dense, MaxPool2D, Flatten,Dropout\n",
        "from tensorflow.keras.utils import to_categorical\n",
        "\n",
        "from sklearn.metrics import accuracy_score\n",
        "\n",
        "%load_ext tensorboard\n",
        "\n",
        "from hyperopt import hp, STATUS_OK, tpe, Trials, fmin"
      ],
      "execution_count": 0,
      "outputs": []
    },
    {
      "cell_type": "markdown",
      "metadata": {
        "id": "MXO9n1YSgCRB",
        "colab_type": "text"
      },
      "source": [
        "#####Import data"
      ]
    },
    {
      "cell_type": "code",
      "metadata": {
        "id": "mTbfbHkP4kY7",
        "colab_type": "code",
        "outputId": "e107787b-bddb-42b9-89b4-9443cdd1676e",
        "colab": {
          "base_uri": "https://localhost:8080/",
          "height": 34
        }
      },
      "source": [
        "cd '/content/drive/My Drive/Colab Notebooks/dw_matrix/matrix_3/dw_matrix_road_signs'"
      ],
      "execution_count": 3,
      "outputs": [
        {
          "output_type": "stream",
          "text": [
            "/content/drive/My Drive/Colab Notebooks/dw_matrix/matrix_3/dw_matrix_road_signs\n"
          ],
          "name": "stdout"
        }
      ]
    },
    {
      "cell_type": "code",
      "metadata": {
        "id": "xN4Q84Z44wnl",
        "colab_type": "code",
        "colab": {}
      },
      "source": [
        "train = pd.read_pickle('data/train.p')\n",
        "test = pd.read_pickle('data/test.p')\n",
        "\n",
        "[X_train, y_train] = train['features'], train['labels']\n",
        "[X_test, y_test] = test['features'], test['labels']"
      ],
      "execution_count": 0,
      "outputs": []
    },
    {
      "cell_type": "code",
      "metadata": {
        "id": "vr2WaEFCa3iW",
        "colab_type": "code",
        "colab": {}
      },
      "source": [
        "df=pd.read_csv('data/signnames.csv')\n",
        "labels = df.to_dict()['b']"
      ],
      "execution_count": 0,
      "outputs": []
    },
    {
      "cell_type": "code",
      "metadata": {
        "id": "5xG6A0YY5Uj2",
        "colab_type": "code",
        "colab": {}
      },
      "source": [
        "if y_train.ndim == 1: y_train = to_categorical(y_train)\n",
        "if y_test.ndim == 1: y_test = to_categorical(y_test)\n",
        "\n",
        "input_shape = X_train.shape[1:]\n",
        "num_classes = y_train.shape[1]"
      ],
      "execution_count": 0,
      "outputs": []
    },
    {
      "cell_type": "markdown",
      "metadata": {
        "id": "aFgpdJkVgG0u",
        "colab_type": "text"
      },
      "source": [
        "#####Define functions"
      ]
    },
    {
      "cell_type": "code",
      "metadata": {
        "id": "eu14EAIwOQO5",
        "colab_type": "code",
        "colab": {}
      },
      "source": [
        "def train_model(model, X_train, y_train, params_fit={}):\n",
        "  model.compile(loss='categorical_crossentropy', optimizer='Adam', metrics=['accuracy'])\n",
        "  \n",
        "  logdir = os.path.join(\"logs\", datetime.datetime.now().strftime('%Y%m%d-%H%M%S'))\n",
        "  tensorboard_callback = tf.keras.callbacks.TensorBoard(logdir, histogram_freq=1)\n",
        "  model.fit(\n",
        "      X_train,\n",
        "      y_train,\n",
        "      batch_size=params_fit.get('batch_size', 128),  # rozmiar paczki\n",
        "      epochs=params_fit.get('epochs', 5),            # liczba iteracji\n",
        "      verbose=params_fit.get('verbose', 1),          # stan\n",
        "      validation_data=params_fit.get('validation_data', (X_train, y_train)),  # do krzywych uczenia się\n",
        "      callbacks=[tensorboard_callback]               # do wizualizacji\n",
        "  )\n",
        "  return model"
      ],
      "execution_count": 0,
      "outputs": []
    },
    {
      "cell_type": "code",
      "metadata": {
        "id": "KBbZWT6BZ88g",
        "colab_type": "code",
        "colab": {}
      },
      "source": [
        "def predict(model_trained, X_test, y_test, scoring=accuracy_score):\n",
        "  \n",
        "  y_test_norm = np.argmax(y_test, axis=1)\n",
        "\n",
        "  y_pred_prob = model_trained.predict(X_test)\n",
        "  y_pred = np.argmax(y_pred_prob, axis=1)\n",
        "\n",
        "  return scoring(y_test_norm, y_pred)"
      ],
      "execution_count": 0,
      "outputs": []
    },
    {
      "cell_type": "code",
      "metadata": {
        "id": "8bDFr9whWvlk",
        "colab_type": "code",
        "colab": {}
      },
      "source": [
        "def get_cnn_v5(input_shape, num_classes):\n",
        "  return Sequential([\n",
        "    Conv2D(filters=32, kernel_size=(3,3), activation='relu', input_shape=input_shape),\n",
        "    Conv2D(filters=32, kernel_size=(3,3), activation='relu', padding='same'),\n",
        "    MaxPool2D(),\n",
        "    Dropout(0.3),\n",
        "    \n",
        "    Conv2D(filters=64, kernel_size=(3,3), activation='relu', padding='same'),\n",
        "    Conv2D(filters=64, kernel_size=(3,3), activation='relu'),\n",
        "    MaxPool2D(),\n",
        "    Dropout(0.3),\n",
        "\n",
        "    Conv2D(filters=64, kernel_size=(3,3), activation='relu', padding='same'),\n",
        "    Conv2D(filters=64, kernel_size=(3,3), activation='relu'),\n",
        "    MaxPool2D(),\n",
        "    Dropout(0.3),\n",
        "    \n",
        "    Flatten(),\n",
        "    \n",
        "    Dense(1024, activation='relu'),\n",
        "    Dropout(0.3),\n",
        "\n",
        "    Dense(1024, activation='relu'),\n",
        "    Dropout(0.3),\n",
        "    \n",
        "    Dense(num_classes, activation='softmax')\n",
        "  ])"
      ],
      "execution_count": 0,
      "outputs": []
    },
    {
      "cell_type": "code",
      "metadata": {
        "id": "R5wFibktg2Vj",
        "colab_type": "code",
        "colab": {
          "base_uri": "https://localhost:8080/",
          "height": 224
        },
        "outputId": "e72a1cdf-7b96-48ca-f63c-8e1bddaa3147"
      },
      "source": [
        "model = get_cnn_v5(input_shape, num_classes)\n",
        "model_trained = train_model(model, X_train, y_train)\n",
        "predict(model_trained, X_test, y_test)  "
      ],
      "execution_count": 10,
      "outputs": [
        {
          "output_type": "stream",
          "text": [
            "Epoch 1/5\n",
            "272/272 [==============================] - 5s 17ms/step - loss: 2.6077 - accuracy: 0.2784 - val_loss: 1.0941 - val_accuracy: 0.6525\n",
            "Epoch 2/5\n",
            "272/272 [==============================] - 4s 15ms/step - loss: 0.8412 - accuracy: 0.7295 - val_loss: 0.2136 - val_accuracy: 0.9342\n",
            "Epoch 3/5\n",
            "272/272 [==============================] - 4s 15ms/step - loss: 0.3969 - accuracy: 0.8766 - val_loss: 0.0973 - val_accuracy: 0.9733\n",
            "Epoch 4/5\n",
            "272/272 [==============================] - 4s 15ms/step - loss: 0.2477 - accuracy: 0.9261 - val_loss: 0.0641 - val_accuracy: 0.9831\n",
            "Epoch 5/5\n",
            "272/272 [==============================] - 4s 15ms/step - loss: 0.1885 - accuracy: 0.9438 - val_loss: 0.0307 - val_accuracy: 0.9913\n"
          ],
          "name": "stdout"
        },
        {
          "output_type": "execute_result",
          "data": {
            "text/plain": [
              "0.9643990929705215"
            ]
          },
          "metadata": {
            "tags": []
          },
          "execution_count": 10
        }
      ]
    },
    {
      "cell_type": "code",
      "metadata": {
        "id": "sBp5UB3DX8T3",
        "colab_type": "code",
        "colab": {
          "base_uri": "https://localhost:8080/",
          "height": 51
        },
        "outputId": "0f845515-fcd7-4f33-cfb9-4f10f074d90d"
      },
      "source": [
        "model_trained.evaluate(X_test, y_test)"
      ],
      "execution_count": 11,
      "outputs": [
        {
          "output_type": "stream",
          "text": [
            "138/138 [==============================] - 1s 4ms/step - loss: 0.1745 - accuracy: 0.9644\n"
          ],
          "name": "stdout"
        },
        {
          "output_type": "execute_result",
          "data": {
            "text/plain": [
              "[0.1745445430278778, 0.9643990993499756]"
            ]
          },
          "metadata": {
            "tags": []
          },
          "execution_count": 11
        }
      ]
    },
    {
      "cell_type": "code",
      "metadata": {
        "colab_type": "code",
        "id": "UoIVYCGiaRQ_",
        "colab": {}
      },
      "source": [
        "def get_model(params):\n",
        "  return Sequential([\n",
        "    Conv2D(filters=32, kernel_size=(3,3), activation='relu', input_shape=input_shape),\n",
        "    Conv2D(filters=32, kernel_size=(3,3), activation='relu', padding='same'),\n",
        "    MaxPool2D(),\n",
        "    Dropout(params['dropout_cnn_block_1']),\n",
        "    \n",
        "    Conv2D(filters=64, kernel_size=(3,3), activation='relu', padding='same'),\n",
        "    Conv2D(filters=64, kernel_size=(3,3), activation='relu'),\n",
        "    MaxPool2D(),\n",
        "    Dropout(params['dropout_cnn_block_2']),\n",
        "    \n",
        "    Conv2D(filters=128, kernel_size=(3,3), activation='relu', padding='same'),\n",
        "    Conv2D(filters=128, kernel_size=(3,3), activation='relu'),\n",
        "    MaxPool2D(),\n",
        "    Dropout(params['dropout_cnn_block_3']),\n",
        "    \n",
        "    Flatten(),\n",
        "    \n",
        "    Dense(1024, activation='relu'),\n",
        "    Dropout(params['dropout_dense_block_1']),\n",
        "    \n",
        "    Dense(1024, activation='relu'),\n",
        "    Dropout(params['dropout_dense_block_2']),\n",
        "    \n",
        "    Dense(num_classes, activation='softmax')\n",
        "  ])"
      ],
      "execution_count": 0,
      "outputs": []
    },
    {
      "cell_type": "markdown",
      "metadata": {
        "id": "6NRmmx97gMt2",
        "colab_type": "text"
      },
      "source": [
        "#####hyperopt"
      ]
    },
    {
      "cell_type": "code",
      "metadata": {
        "id": "KDaso5nIXAEK",
        "colab_type": "code",
        "colab": {}
      },
      "source": [
        "def func_obj(params):\n",
        "  get_model(params)\n",
        "  model.compile(loss='categorical_crossentropy', optimizer='Adam', metrics=['accuracy'])\n",
        "  \n",
        "  model.fit(\n",
        "      X_train,\n",
        "      y_train,\n",
        "      batch_size=int(params.get('batch_size', 128)),  # rozmiar paczki\n",
        "      epochs=5,            # liczba iteracji\n",
        "      verbose=0,          # stan\n",
        "  )\n",
        "\n",
        "  score = model.evaluate(X_test, y_test,verbose=0)\n",
        "  accuracy = score[1]\n",
        "  print(params, 'accuracy={}'.format(accuracy))\n",
        "  return {'loss': -accuracy, 'status': STATUS_OK, 'model': model}"
      ],
      "execution_count": 0,
      "outputs": []
    },
    {
      "cell_type": "code",
      "metadata": {
        "id": "j5RnM7r1ZNTp",
        "colab_type": "code",
        "colab": {
          "base_uri": "https://localhost:8080/",
          "height": 1000
        },
        "outputId": "70bef481-902f-4ad7-f6f0-9410ab04dbc4"
      },
      "source": [
        "space = {\n",
        "      'batch_size': hp.quniform('batch_size', 100, 200, 10),\n",
        "      'dropout_cnn_block_1': hp.uniform('dropout_cnn_block_1', 0.3, 0.5),\n",
        "      'dropout_cnn_block_2': hp.uniform('dropout_cnn_block_2', 0.3, 0.5),\n",
        "      'dropout_cnn_block_3': hp.uniform('dropout_cnn_block_3', 0.3, 0.5),\n",
        "      'dropout_dense_block_1': hp.uniform('dropout_dense_block_1', 0.3, 0.7),\n",
        "      'dropout_dense_block_2': hp.uniform('dropout_dense_block_2', 0.3, 0.7),\n",
        "}\n",
        "\n",
        "best = fmin(\n",
        "    func_obj,\n",
        "    space,\n",
        "    tpe.suggest,\n",
        "    30,\n",
        "    Trials()\n",
        ")"
      ],
      "execution_count": 16,
      "outputs": [
        {
          "output_type": "stream",
          "text": [
            "{'batch_size': 150.0, 'dropout_cnn_block_1': 0.4927495754082575, 'dropout_cnn_block_2': 0.45027851838754257, 'dropout_cnn_block_3': 0.3165836266923972, 'dropout_dense_block_1': 0.5381581427755003, 'dropout_dense_block_2': 0.38474956655432146}\n",
            "accuracy=0.974829912185669\n",
            "{'batch_size': 130.0, 'dropout_cnn_block_1': 0.3302322487998526, 'dropout_cnn_block_2': 0.41812692043789323, 'dropout_cnn_block_3': 0.3821838933670423, 'dropout_dense_block_1': 0.6463347575701813, 'dropout_dense_block_2': 0.49140470404436415}\n",
            "accuracy=0.976643979549408\n",
            "{'batch_size': 180.0, 'dropout_cnn_block_1': 0.38822350312899445, 'dropout_cnn_block_2': 0.45046959022093414, 'dropout_cnn_block_3': 0.4891409781051562, 'dropout_dense_block_1': 0.6658019422900859, 'dropout_dense_block_2': 0.5027208541348206}\n",
            "accuracy=0.9832199811935425\n",
            "{'batch_size': 140.0, 'dropout_cnn_block_1': 0.330571019596842, 'dropout_cnn_block_2': 0.32308005924588407, 'dropout_cnn_block_3': 0.30851862574091565, 'dropout_dense_block_1': 0.6292041039036091, 'dropout_dense_block_2': 0.47886902053350133}\n",
            "accuracy=0.9709750413894653\n",
            "{'batch_size': 160.0, 'dropout_cnn_block_1': 0.31689987151033194, 'dropout_cnn_block_2': 0.4041719401109034, 'dropout_cnn_block_3': 0.3745844994645478, 'dropout_dense_block_1': 0.5119389723027994, 'dropout_dense_block_2': 0.47556643082736133}\n",
            "accuracy=0.9804988503456116\n",
            "{'batch_size': 190.0, 'dropout_cnn_block_1': 0.41474239603873864, 'dropout_cnn_block_2': 0.4078725141862667, 'dropout_cnn_block_3': 0.40589737643498536, 'dropout_dense_block_1': 0.5930000489729462, 'dropout_dense_block_2': 0.4898919454696752}\n",
            "accuracy=0.9829931855201721\n",
            "{'batch_size': 140.0, 'dropout_cnn_block_1': 0.3065148366190592, 'dropout_cnn_block_2': 0.44535794643790866, 'dropout_cnn_block_3': 0.48620079796144866, 'dropout_dense_block_1': 0.4402304876960139, 'dropout_dense_block_2': 0.43860852612235757}\n",
            "accuracy=0.9646258354187012\n",
            "{'batch_size': 120.0, 'dropout_cnn_block_1': 0.4004259029499586, 'dropout_cnn_block_2': 0.34406374222041236, 'dropout_cnn_block_3': 0.47149745622441597, 'dropout_dense_block_1': 0.49913790852418194, 'dropout_dense_block_2': 0.39661229127191355}\n",
            "accuracy=0.9712018370628357\n",
            "{'batch_size': 170.0, 'dropout_cnn_block_1': 0.355742795839831, 'dropout_cnn_block_2': 0.4042034333605362, 'dropout_cnn_block_3': 0.4275617552289027, 'dropout_dense_block_1': 0.49234501964860367, 'dropout_dense_block_2': 0.43872937884395913}\n",
            "accuracy=0.9662131667137146\n",
            "{'batch_size': 170.0, 'dropout_cnn_block_1': 0.4408993461031953, 'dropout_cnn_block_2': 0.4845144752661767, 'dropout_cnn_block_3': 0.48301968384601507, 'dropout_dense_block_1': 0.4118934653169082, 'dropout_dense_block_2': 0.4485278359607246}\n",
            "accuracy=0.9861677885055542\n",
            "{'batch_size': 160.0, 'dropout_cnn_block_1': 0.443776834414765, 'dropout_cnn_block_2': 0.45741964243971345, 'dropout_cnn_block_3': 0.42313006427152544, 'dropout_dense_block_1': 0.3595921165184248, 'dropout_dense_block_2': 0.3258712861882798}\n",
            "accuracy=0.9866213202476501\n",
            "{'batch_size': 120.0, 'dropout_cnn_block_1': 0.3253653632307291, 'dropout_cnn_block_2': 0.30171629961111374, 'dropout_cnn_block_3': 0.39726760328399735, 'dropout_dense_block_1': 0.38833373900175233, 'dropout_dense_block_2': 0.6780010135966522}\n",
            "accuracy=0.9850339889526367\n",
            "{'batch_size': 140.0, 'dropout_cnn_block_1': 0.44625499252242684, 'dropout_cnn_block_2': 0.4204191855599978, 'dropout_cnn_block_3': 0.43747157535319037, 'dropout_dense_block_1': 0.32044258248154583, 'dropout_dense_block_2': 0.41005246284749985}\n",
            "accuracy=0.978458046913147\n",
            "{'batch_size': 200.0, 'dropout_cnn_block_1': 0.4605753893672926, 'dropout_cnn_block_2': 0.3227862550299659, 'dropout_cnn_block_3': 0.3257615570943735, 'dropout_dense_block_1': 0.33863681879327134, 'dropout_dense_block_2': 0.5027572932251725}\n",
            "accuracy=0.9680272340774536\n",
            "{'batch_size': 190.0, 'dropout_cnn_block_1': 0.49506745628634774, 'dropout_cnn_block_2': 0.468169216042032, 'dropout_cnn_block_3': 0.43720444017905036, 'dropout_dense_block_1': 0.6360855855433085, 'dropout_dense_block_2': 0.3103301926580462}\n",
            "accuracy=0.9773242473602295\n",
            "{'batch_size': 180.0, 'dropout_cnn_block_1': 0.3429139318719147, 'dropout_cnn_block_2': 0.3155424824119217, 'dropout_cnn_block_3': 0.4146714276379716, 'dropout_dense_block_1': 0.5622802388919546, 'dropout_dense_block_2': 0.5782210471634593}\n",
            "accuracy=0.9673469662666321\n",
            "{'batch_size': 150.0, 'dropout_cnn_block_1': 0.4036099916113084, 'dropout_cnn_block_2': 0.3916399424415532, 'dropout_cnn_block_3': 0.4862485387304227, 'dropout_dense_block_1': 0.3598437665572931, 'dropout_dense_block_2': 0.5446105947006714}\n",
            "accuracy=0.9666666388511658\n",
            "{'batch_size': 200.0, 'dropout_cnn_block_1': 0.3169526364599388, 'dropout_cnn_block_2': 0.3808821966740483, 'dropout_cnn_block_3': 0.4651655292056657, 'dropout_dense_block_1': 0.6570560581864336, 'dropout_dense_block_2': 0.5024736453068229}\n",
            "accuracy=0.9725623726844788\n",
            "{'batch_size': 120.0, 'dropout_cnn_block_1': 0.342936059875525, 'dropout_cnn_block_2': 0.3338919254773594, 'dropout_cnn_block_3': 0.49493703144051204, 'dropout_dense_block_1': 0.3485744385833582, 'dropout_dense_block_2': 0.47610973296875925}\n",
            "accuracy=0.9609977602958679\n",
            "{'batch_size': 190.0, 'dropout_cnn_block_1': 0.42916310321606027, 'dropout_cnn_block_2': 0.45636512709182847, 'dropout_cnn_block_3': 0.3098232197821486, 'dropout_dense_block_1': 0.5548998832624887, 'dropout_dense_block_2': 0.5370170271661892}\n",
            "accuracy=0.974829912185669\n",
            "{'batch_size': 160.0, 'dropout_cnn_block_1': 0.4578326527885563, 'dropout_cnn_block_2': 0.49997572648784905, 'dropout_cnn_block_3': 0.36377922785083305, 'dropout_dense_block_1': 0.434379878457575, 'dropout_dense_block_2': 0.3168725027575433}\n",
            "accuracy=0.978458046913147\n",
            "{'batch_size': 170.0, 'dropout_cnn_block_1': 0.4764805391156601, 'dropout_cnn_block_2': 0.49550509969037143, 'dropout_cnn_block_3': 0.4579800869917504, 'dropout_dense_block_1': 0.41317916111964387, 'dropout_dense_block_2': 0.34891046275586174}\n",
            "accuracy=0.9716553092002869\n",
            "{'batch_size': 160.0, 'dropout_cnn_block_1': 0.436571266316836, 'dropout_cnn_block_2': 0.47542079223448946, 'dropout_cnn_block_3': 0.4536024762928203, 'dropout_dense_block_1': 0.3041161099597649, 'dropout_dense_block_2': 0.632024725868393}\n",
            "accuracy=0.94399094581604\n",
            "{'batch_size': 170.0, 'dropout_cnn_block_1': 0.3767490294397574, 'dropout_cnn_block_2': 0.4857071316295967, 'dropout_cnn_block_3': 0.3538333102081546, 'dropout_dense_block_1': 0.4555495702732499, 'dropout_dense_block_2': 0.3477184329891021}\n",
            "accuracy=0.9535147547721863\n",
            "{'batch_size': 100.0, 'dropout_cnn_block_1': 0.42126429930387516, 'dropout_cnn_block_2': 0.4341102868054808, 'dropout_cnn_block_3': 0.34405814782758376, 'dropout_dense_block_1': 0.3845334131978934, 'dropout_dense_block_2': 0.3562727126362214}\n",
            "accuracy=0.9054421782493591\n",
            "{'batch_size': 180.0, 'dropout_cnn_block_1': 0.4657749993227824, 'dropout_cnn_block_2': 0.3755701983728833, 'dropout_cnn_block_3': 0.44302205822930885, 'dropout_dense_block_1': 0.4669548627503925, 'dropout_dense_block_2': 0.6069793979880959}\n",
            "accuracy=0.9446712136268616\n",
            "{'batch_size': 160.0, 'dropout_cnn_block_1': 0.48710631899255064, 'dropout_cnn_block_2': 0.4715767040035188, 'dropout_cnn_block_3': 0.41728513890744123, 'dropout_dense_block_1': 0.3018739856253656, 'dropout_dense_block_2': 0.427489896980815}\n",
            "accuracy=0.8043084144592285\n",
            "{'batch_size': 170.0, 'dropout_cnn_block_1': 0.4462608294021101, 'dropout_cnn_block_2': 0.4915910326941088, 'dropout_cnn_block_3': 0.4732238017132191, 'dropout_dense_block_1': 0.3973363123620078, 'dropout_dense_block_2': 0.3715408562409548}\n",
            "accuracy=0.6616780161857605\n",
            "{'batch_size': 150.0, 'dropout_cnn_block_1': 0.3737127521596064, 'dropout_cnn_block_2': 0.4321427337377327, 'dropout_cnn_block_3': 0.3888491050072354, 'dropout_dense_block_1': 0.3660276837875574, 'dropout_dense_block_2': 0.303848865266101}\n",
            "accuracy=0.9124716520309448\n",
            "{'batch_size': 100.0, 'dropout_cnn_block_1': 0.47683598454388365, 'dropout_cnn_block_2': 0.4636006152341236, 'dropout_cnn_block_3': 0.4475221456079027, 'dropout_dense_block_1': 0.41656677430310046, 'dropout_dense_block_2': 0.6918035438930317}\n",
            "accuracy=0.2775510251522064\n",
            "100%|██████████| 30/30 [05:23<00:00, 10.79s/it, best loss: -0.9866213202476501]\n"
          ],
          "name": "stdout"
        }
      ]
    },
    {
      "cell_type": "code",
      "metadata": {
        "id": "Lgk2PVrgZj_f",
        "colab_type": "code",
        "colab": {}
      },
      "source": [
        ""
      ],
      "execution_count": 0,
      "outputs": []
    }
  ]
}