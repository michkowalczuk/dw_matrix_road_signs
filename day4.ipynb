{
  "nbformat": 4,
  "nbformat_minor": 0,
  "metadata": {
    "colab": {
      "name": "day4.ipynb",
      "provenance": [],
      "collapsed_sections": [],
      "mount_file_id": "1zMrNl1JlCEGt6yFGCeL1HezYpHtf7LJv",
      "authorship_tag": "ABX9TyOcaqPEiS8W5YdoRIESGua+",
      "include_colab_link": true
    },
    "kernelspec": {
      "name": "python3",
      "display_name": "Python 3"
    },
    "accelerator": "GPU"
  },
  "cells": [
    {
      "cell_type": "markdown",
      "metadata": {
        "id": "view-in-github",
        "colab_type": "text"
      },
      "source": [
        "<a href=\"https://colab.research.google.com/github/michkowalczuk/dw_matrix_road_signs/blob/master/day4.ipynb\" target=\"_parent\"><img src=\"https://colab.research.google.com/assets/colab-badge.svg\" alt=\"Open In Colab\"/></a>"
      ]
    },
    {
      "cell_type": "markdown",
      "metadata": {
        "id": "d8n8nePNNmej",
        "colab_type": "text"
      },
      "source": [
        "#####Imports"
      ]
    },
    {
      "cell_type": "code",
      "metadata": {
        "id": "hk_5RTKX3vft",
        "colab_type": "code",
        "colab": {
          "base_uri": "https://localhost:8080/",
          "height": 51
        },
        "outputId": "b8dce6af-dc08-405c-bbff-f13b9853abe7"
      },
      "source": [
        "import os\n",
        "import datetime\n",
        "\n",
        "import pandas as pd\n",
        "import numpy as np\n",
        "\n",
        "import matplotlib.pyplot as plt\n",
        "from skimage import color, exposure\n",
        "\n",
        "import tensorflow as tf\n",
        "from tensorflow.keras.models import Sequential\n",
        "from tensorflow.keras.layers import Conv2D, Dense, MaxPool2D, Flatten,Dropout\n",
        "from tensorflow.keras.utils import to_categorical\n",
        "\n",
        "from sklearn.metrics import accuracy_score\n",
        "\n",
        "%load_ext tensorboard"
      ],
      "execution_count": 31,
      "outputs": [
        {
          "output_type": "stream",
          "text": [
            "The tensorboard extension is already loaded. To reload it, use:\n",
            "  %reload_ext tensorboard\n"
          ],
          "name": "stdout"
        }
      ]
    },
    {
      "cell_type": "markdown",
      "metadata": {
        "id": "SGCRrKOTNy2y",
        "colab_type": "text"
      },
      "source": [
        "##### Import data"
      ]
    },
    {
      "cell_type": "code",
      "metadata": {
        "id": "mTbfbHkP4kY7",
        "colab_type": "code",
        "outputId": "c00e2507-34d0-42d5-c47e-42422b726202",
        "colab": {
          "base_uri": "https://localhost:8080/",
          "height": 34
        }
      },
      "source": [
        "cd '/content/drive/My Drive/Colab Notebooks/dw_matrix/matrix_3/dw_matrix_road_signs'"
      ],
      "execution_count": 32,
      "outputs": [
        {
          "output_type": "stream",
          "text": [
            "/content/drive/My Drive/Colab Notebooks/dw_matrix/matrix_3/dw_matrix_road_signs\n"
          ],
          "name": "stdout"
        }
      ]
    },
    {
      "cell_type": "code",
      "metadata": {
        "id": "xN4Q84Z44wnl",
        "colab_type": "code",
        "colab": {}
      },
      "source": [
        "train = pd.read_pickle('data/train.p')\n",
        "test = pd.read_pickle('data/test.p')\n",
        "\n",
        "[X_train, y_train] = train['features'], train['labels']\n",
        "[X_test, y_test] = test['features'], test['labels']"
      ],
      "execution_count": 0,
      "outputs": []
    },
    {
      "cell_type": "code",
      "metadata": {
        "id": "vr2WaEFCa3iW",
        "colab_type": "code",
        "colab": {}
      },
      "source": [
        "df=pd.read_csv('data/signnames.csv')\n",
        "labels = df.to_dict()['b']"
      ],
      "execution_count": 0,
      "outputs": []
    },
    {
      "cell_type": "code",
      "metadata": {
        "id": "5xG6A0YY5Uj2",
        "colab_type": "code",
        "outputId": "46fb7c49-0195-4d0d-8347-5f045247ec8b",
        "colab": {
          "base_uri": "https://localhost:8080/",
          "height": 34
        }
      },
      "source": [
        "if y_train.ndim == 1: y_train = to_categorical(y_train)\n",
        "y_train.shape"
      ],
      "execution_count": 35,
      "outputs": [
        {
          "output_type": "execute_result",
          "data": {
            "text/plain": [
              "(34799, 43)"
            ]
          },
          "metadata": {
            "tags": []
          },
          "execution_count": 35
        }
      ]
    },
    {
      "cell_type": "code",
      "metadata": {
        "id": "xqVtr9oz6mY2",
        "colab_type": "code",
        "colab": {}
      },
      "source": [
        "input_shape = X_train.shape[1:]\n",
        "num_classes = y_train.shape[1]"
      ],
      "execution_count": 0,
      "outputs": []
    },
    {
      "cell_type": "code",
      "metadata": {
        "id": "CBKiZCUx6MYV",
        "colab_type": "code",
        "outputId": "b3afa81b-1025-4ebc-8227-e1cb6b3bd6cc",
        "colab": {
          "base_uri": "https://localhost:8080/",
          "height": 34
        }
      },
      "source": [
        "if y_test.ndim == 1: y_test = to_categorical(y_test)\n",
        "y_test.shape"
      ],
      "execution_count": 37,
      "outputs": [
        {
          "output_type": "execute_result",
          "data": {
            "text/plain": [
              "(4410, 43)"
            ]
          },
          "metadata": {
            "tags": []
          },
          "execution_count": 37
        }
      ]
    },
    {
      "cell_type": "markdown",
      "metadata": {
        "id": "X_-ERx3LO8vy",
        "colab_type": "text"
      },
      "source": [
        "#####Trenowanie modelu"
      ]
    },
    {
      "cell_type": "code",
      "metadata": {
        "id": "eu14EAIwOQO5",
        "colab_type": "code",
        "colab": {}
      },
      "source": [
        "def train_model(model, X_train, y_train, params_fit={}):\n",
        "  model.compile(loss='categorical_crossentropy', optimizer='Adam', metrics=['accuracy'])\n",
        "  \n",
        "  logdir = os.path.join(\"logs\", datetime.datetime.now().strftime('%Y%m%d-%H%M%S'))\n",
        "  tensorboard_callback = tf.keras.callbacks.TensorBoard(logdir, histogram_freq=1)\n",
        "  model.fit(\n",
        "      X_train,\n",
        "      y_train,\n",
        "      batch_size=params_fit.get('batch_size', 128),  # rozmiar paczki\n",
        "      epochs=params_fit.get('epochs', 5),            # liczba iteracji\n",
        "      verbose=params_fit.get('verbose', 1),          # stan\n",
        "      validation_data=params_fit.get('validation_data', (X_train, y_train)),  # do krzywych uczenia się\n",
        "      callbacks=[tensorboard_callback]               # do wizualizacji\n",
        "  )\n",
        "  return model"
      ],
      "execution_count": 0,
      "outputs": []
    },
    {
      "cell_type": "code",
      "metadata": {
        "id": "KBbZWT6BZ88g",
        "colab_type": "code",
        "colab": {}
      },
      "source": [
        "def predict(model_trained, X_test, y_test, scoring=accuracy_score):\n",
        "  \n",
        "  y_test_norm = np.argmax(y_test, axis=1)\n",
        "\n",
        "  y_pred_prob = model_trained.predict(X_test)\n",
        "  y_pred = np.argmax(y_pred_prob, axis=1)\n",
        "\n",
        "  return scoring(y_test_norm, y_pred)"
      ],
      "execution_count": 0,
      "outputs": []
    },
    {
      "cell_type": "code",
      "metadata": {
        "id": "R5wFibktg2Vj",
        "colab_type": "code",
        "colab": {}
      },
      "source": [
        "def train_and_predict(model):\n",
        "  model_trained = train_model(model, X_train, y_train)\n",
        "  return predict(model_trained, X_test, y_test)  "
      ],
      "execution_count": 0,
      "outputs": []
    },
    {
      "cell_type": "code",
      "metadata": {
        "id": "yHtZDRWO_hxg",
        "colab_type": "code",
        "colab": {
          "base_uri": "https://localhost:8080/",
          "height": 204
        },
        "outputId": "977ba65a-1e04-4e34-cc4e-f8f57f546379"
      },
      "source": [
        "def get_cnn_v1(input_shape, num_classes):\n",
        "  return Sequential([\n",
        "    Conv2D(filters=64, kernel_size=(3,3), activation='relu', input_shape=input_shape),\n",
        "    Flatten(),\n",
        "    Dense(num_classes, activation='softmax')\n",
        "  ])\n",
        "\n",
        "train_and_predict(get_cnn_v2(input_shape, num_classes))"
      ],
      "execution_count": 44,
      "outputs": [
        {
          "output_type": "stream",
          "text": [
            "Epoch 1/5\n",
            "272/272 [==============================] - 2s 9ms/step - loss: 6.5334 - accuracy: 0.2340 - val_loss: 1.7257 - val_accuracy: 0.5430\n",
            "Epoch 2/5\n",
            "272/272 [==============================] - 2s 9ms/step - loss: 1.3876 - accuracy: 0.5969 - val_loss: 0.6154 - val_accuracy: 0.8464\n",
            "Epoch 3/5\n",
            "272/272 [==============================] - 2s 9ms/step - loss: 0.7842 - accuracy: 0.7664 - val_loss: 0.2883 - val_accuracy: 0.9304\n",
            "Epoch 4/5\n",
            "272/272 [==============================] - 2s 9ms/step - loss: 0.5248 - accuracy: 0.8415 - val_loss: 0.1662 - val_accuracy: 0.9624\n",
            "Epoch 5/5\n",
            "272/272 [==============================] - 2s 9ms/step - loss: 0.3876 - accuracy: 0.8835 - val_loss: 0.1207 - val_accuracy: 0.9781\n"
          ],
          "name": "stdout"
        },
        {
          "output_type": "execute_result",
          "data": {
            "text/plain": [
              "0.8861678004535147"
            ]
          },
          "metadata": {
            "tags": []
          },
          "execution_count": 44
        }
      ]
    },
    {
      "cell_type": "code",
      "metadata": {
        "id": "mKPMYIJ9Debo",
        "colab_type": "code",
        "colab": {
          "base_uri": "https://localhost:8080/",
          "height": 204
        },
        "outputId": "a6b09657-1728-46d1-a31a-20f26002f8c0"
      },
      "source": [
        "def get_cnn_v2(input_shape, num_classes):\n",
        "  return Sequential([\n",
        "    Conv2D(filters=32, kernel_size=(3,3), activation='relu', input_shape=input_shape),\n",
        "    MaxPool2D(),\n",
        "    Dropout(0.3),\n",
        "    \n",
        "    Conv2D(filters=64, kernel_size=(3,3), activation='relu'),\n",
        "    MaxPool2D(),\n",
        "    Dropout(0.3),\n",
        "    \n",
        "    Flatten(),\n",
        "    \n",
        "    Dense(1024, activation='relu'),\n",
        "    Dropout(0.3),\n",
        "    \n",
        "    Dense(num_classes, activation='softmax')\n",
        "  ])\n",
        "\n",
        "train_and_predict(get_cnn_v2(input_shape, num_classes))"
      ],
      "execution_count": 45,
      "outputs": [
        {
          "output_type": "stream",
          "text": [
            "Epoch 1/5\n",
            "272/272 [==============================] - 2s 9ms/step - loss: 5.9380 - accuracy: 0.3405 - val_loss: 0.8011 - val_accuracy: 0.7998\n",
            "Epoch 2/5\n",
            "272/272 [==============================] - 2s 9ms/step - loss: 0.8882 - accuracy: 0.7398 - val_loss: 0.2766 - val_accuracy: 0.9282\n",
            "Epoch 3/5\n",
            "272/272 [==============================] - 2s 9ms/step - loss: 0.5348 - accuracy: 0.8415 - val_loss: 0.1552 - val_accuracy: 0.9672\n",
            "Epoch 4/5\n",
            "272/272 [==============================] - 2s 9ms/step - loss: 0.3670 - accuracy: 0.8898 - val_loss: 0.0970 - val_accuracy: 0.9769\n",
            "Epoch 5/5\n",
            "272/272 [==============================] - 2s 9ms/step - loss: 0.2881 - accuracy: 0.9149 - val_loss: 0.0713 - val_accuracy: 0.9869\n"
          ],
          "name": "stdout"
        },
        {
          "output_type": "execute_result",
          "data": {
            "text/plain": [
              "0.9147392290249433"
            ]
          },
          "metadata": {
            "tags": []
          },
          "execution_count": 45
        }
      ]
    },
    {
      "cell_type": "code",
      "metadata": {
        "colab_type": "code",
        "outputId": "974ba5c6-9cf1-4075-a18b-e86dfba383ec",
        "id": "U2NSMqOTjQm8",
        "colab": {
          "base_uri": "https://localhost:8080/",
          "height": 204
        }
      },
      "source": [
        "def get_cnn_v3(input_shape, num_classes):\n",
        "  return Sequential([\n",
        "    Conv2D(filters=32, kernel_size=(3,3), activation='relu', input_shape=input_shape),\n",
        "    Conv2D(filters=32, kernel_size=(3,3), activation='relu'),\n",
        "    MaxPool2D(),\n",
        "    Dropout(0.3),\n",
        "    \n",
        "    Conv2D(filters=64, kernel_size=(3,3), activation='relu'),\n",
        "    Conv2D(filters=64, kernel_size=(3,3), activation='relu'),\n",
        "    MaxPool2D(),\n",
        "    Dropout(0.3),\n",
        "    \n",
        "    Flatten(),\n",
        "    \n",
        "    Dense(1024, activation='relu'),\n",
        "    Dropout(0.3),\n",
        "    \n",
        "    Dense(num_classes, activation='softmax')\n",
        "  ])\n",
        "\n",
        "train_and_predict(get_cnn_v3(input_shape, num_classes))"
      ],
      "execution_count": 46,
      "outputs": [
        {
          "output_type": "stream",
          "text": [
            "Epoch 1/5\n",
            "272/272 [==============================] - 3s 12ms/step - loss: 2.2669 - accuracy: 0.4770 - val_loss: 0.4666 - val_accuracy: 0.8882\n",
            "Epoch 2/5\n",
            "272/272 [==============================] - 3s 11ms/step - loss: 0.6518 - accuracy: 0.8070 - val_loss: 0.1486 - val_accuracy: 0.9655\n",
            "Epoch 3/5\n",
            "272/272 [==============================] - 3s 11ms/step - loss: 0.3539 - accuracy: 0.8932 - val_loss: 0.0738 - val_accuracy: 0.9840\n",
            "Epoch 4/5\n",
            "272/272 [==============================] - 3s 11ms/step - loss: 0.2329 - accuracy: 0.9319 - val_loss: 0.0481 - val_accuracy: 0.9908\n",
            "Epoch 5/5\n",
            "272/272 [==============================] - 3s 11ms/step - loss: 0.1752 - accuracy: 0.9481 - val_loss: 0.0354 - val_accuracy: 0.9926\n"
          ],
          "name": "stdout"
        },
        {
          "output_type": "execute_result",
          "data": {
            "text/plain": [
              "0.9600907029478458"
            ]
          },
          "metadata": {
            "tags": []
          },
          "execution_count": 46
        }
      ]
    },
    {
      "cell_type": "code",
      "metadata": {
        "colab_type": "code",
        "outputId": "28a37fd2-40bc-4215-a0da-dec4cb9824a4",
        "id": "c8wwkwG7lEti",
        "colab": {
          "base_uri": "https://localhost:8080/",
          "height": 204
        }
      },
      "source": [
        "def get_cnn_v4(input_shape, num_classes):\n",
        "  return Sequential([\n",
        "    Conv2D(filters=32, kernel_size=(3,3), activation='relu', input_shape=input_shape),\n",
        "    Conv2D(filters=32, kernel_size=(3,3), activation='relu', padding='same'),\n",
        "    MaxPool2D(),\n",
        "    Dropout(0.3),\n",
        "    \n",
        "    Conv2D(filters=64, kernel_size=(3,3), activation='relu', padding='same'),\n",
        "    Conv2D(filters=64, kernel_size=(3,3), activation='relu'),\n",
        "    MaxPool2D(),\n",
        "    Dropout(0.3),\n",
        "\n",
        "    Conv2D(filters=64, kernel_size=(3,3), activation='relu', padding='same'),\n",
        "    Conv2D(filters=64, kernel_size=(3,3), activation='relu'),\n",
        "    MaxPool2D(),\n",
        "    Dropout(0.3),\n",
        "    \n",
        "    Flatten(),\n",
        "    \n",
        "    Dense(1024, activation='relu'),\n",
        "    Dropout(0.3),\n",
        "    \n",
        "    Dense(num_classes, activation='softmax')\n",
        "  ])\n",
        "\n",
        "train_and_predict(get_cnn_v4(input_shape, num_classes))"
      ],
      "execution_count": 47,
      "outputs": [
        {
          "output_type": "stream",
          "text": [
            "Epoch 1/5\n",
            "272/272 [==============================] - 3s 13ms/step - loss: 2.1923 - accuracy: 0.4041 - val_loss: 0.5939 - val_accuracy: 0.8532\n",
            "Epoch 2/5\n",
            "272/272 [==============================] - 3s 12ms/step - loss: 0.6591 - accuracy: 0.8016 - val_loss: 0.1539 - val_accuracy: 0.9574\n",
            "Epoch 3/5\n",
            "272/272 [==============================] - 3s 12ms/step - loss: 0.3446 - accuracy: 0.8956 - val_loss: 0.0822 - val_accuracy: 0.9758\n",
            "Epoch 4/5\n",
            "272/272 [==============================] - 3s 12ms/step - loss: 0.2428 - accuracy: 0.9294 - val_loss: 0.0884 - val_accuracy: 0.9766\n",
            "Epoch 5/5\n",
            "272/272 [==============================] - 3s 12ms/step - loss: 0.1967 - accuracy: 0.9429 - val_loss: 0.0348 - val_accuracy: 0.9899\n"
          ],
          "name": "stdout"
        },
        {
          "output_type": "execute_result",
          "data": {
            "text/plain": [
              "0.9650793650793651"
            ]
          },
          "metadata": {
            "tags": []
          },
          "execution_count": 47
        }
      ]
    },
    {
      "cell_type": "code",
      "metadata": {
        "colab_type": "code",
        "outputId": "844e36ed-1202-4a7c-89ad-315e3de4c80b",
        "id": "1vc2QLl1lhQh",
        "colab": {
          "base_uri": "https://localhost:8080/",
          "height": 204
        }
      },
      "source": [
        "def get_cnn_v5(input_shape, num_classes):\n",
        "  return Sequential([\n",
        "    Conv2D(filters=32, kernel_size=(3,3), activation='relu', input_shape=input_shape),\n",
        "    Conv2D(filters=32, kernel_size=(3,3), activation='relu', padding='same'),\n",
        "    MaxPool2D(),\n",
        "    Dropout(0.3),\n",
        "    \n",
        "    Conv2D(filters=64, kernel_size=(3,3), activation='relu', padding='same'),\n",
        "    Conv2D(filters=64, kernel_size=(3,3), activation='relu'),\n",
        "    MaxPool2D(),\n",
        "    Dropout(0.3),\n",
        "\n",
        "    Conv2D(filters=64, kernel_size=(3,3), activation='relu', padding='same'),\n",
        "    Conv2D(filters=64, kernel_size=(3,3), activation='relu'),\n",
        "    MaxPool2D(),\n",
        "    Dropout(0.3),\n",
        "    \n",
        "    Flatten(),\n",
        "    \n",
        "    Dense(1024, activation='relu'),\n",
        "    Dropout(0.3),\n",
        "\n",
        "    Dense(1024, activation='relu'),\n",
        "    Dropout(0.3),\n",
        "    \n",
        "    Dense(num_classes, activation='softmax')\n",
        "  ])\n",
        "\n",
        "train_and_predict(get_cnn_v5(input_shape, num_classes))"
      ],
      "execution_count": 48,
      "outputs": [
        {
          "output_type": "stream",
          "text": [
            "Epoch 1/5\n",
            "272/272 [==============================] - 4s 14ms/step - loss: 2.7411 - accuracy: 0.2710 - val_loss: 1.0450 - val_accuracy: 0.6597\n",
            "Epoch 2/5\n",
            "272/272 [==============================] - 4s 13ms/step - loss: 0.8848 - accuracy: 0.7130 - val_loss: 0.2213 - val_accuracy: 0.9307\n",
            "Epoch 3/5\n",
            "272/272 [==============================] - 4s 13ms/step - loss: 0.4215 - accuracy: 0.8651 - val_loss: 0.0971 - val_accuracy: 0.9715\n",
            "Epoch 4/5\n",
            "272/272 [==============================] - 4s 13ms/step - loss: 0.2736 - accuracy: 0.9161 - val_loss: 0.0614 - val_accuracy: 0.9810\n",
            "Epoch 5/5\n",
            "272/272 [==============================] - 4s 13ms/step - loss: 0.2127 - accuracy: 0.9366 - val_loss: 0.0400 - val_accuracy: 0.9895\n"
          ],
          "name": "stdout"
        },
        {
          "output_type": "execute_result",
          "data": {
            "text/plain": [
              "0.9696145124716553"
            ]
          },
          "metadata": {
            "tags": []
          },
          "execution_count": 48
        }
      ]
    },
    {
      "cell_type": "markdown",
      "metadata": {
        "id": "l8oMBMvel-n5",
        "colab_type": "text"
      },
      "source": [
        "#####Zmiana na grayscale"
      ]
    },
    {
      "cell_type": "code",
      "metadata": {
        "id": "YKlc4a_eAyz5",
        "colab_type": "code",
        "outputId": "f8d174cf-956b-4a21-8761-7bedbc37ea0b",
        "colab": {
          "base_uri": "https://localhost:8080/",
          "height": 34
        }
      },
      "source": [
        "X_train[0].shape"
      ],
      "execution_count": 51,
      "outputs": [
        {
          "output_type": "execute_result",
          "data": {
            "text/plain": [
              "(32, 32, 3)"
            ]
          },
          "metadata": {
            "tags": []
          },
          "execution_count": 51
        }
      ]
    },
    {
      "cell_type": "code",
      "metadata": {
        "id": "_gjiZ5afmLMO",
        "colab_type": "code",
        "colab": {
          "base_uri": "https://localhost:8080/",
          "height": 266
        },
        "outputId": "08a60330-20bc-4df4-bdf4-15533547795d"
      },
      "source": [
        "plt.imshow( color.rgb2gray(X_train[0]), cmap=plt.get_cmap('gray'));"
      ],
      "execution_count": 55,
      "outputs": [
        {
          "output_type": "display_data",
          "data": {
            "image/png": "[encoded data removed]",
            "text/plain": [
              "<Figure size 432x288 with 1 Axes>"
            ]
          },
          "metadata": {
            "tags": []
          }
        }
      ]
    },
    {
      "cell_type": "code",
      "metadata": {
        "id": "GTfndxV9mpLe",
        "colab_type": "code",
        "colab": {}
      },
      "source": [
        "X_train_gray = color.rgb2gray(X_train).reshape(-1, 32, 32, 1)\n",
        "X_test_gray = color.rgb2gray(X_test).reshape(-1, 32, 32, 1)"
      ],
      "execution_count": 0,
      "outputs": []
    },
    {
      "cell_type": "code",
      "metadata": {
        "id": "h2q-EAeEotxt",
        "colab_type": "code",
        "colab": {
          "base_uri": "https://localhost:8080/",
          "height": 204
        },
        "outputId": "8d6360a1-8323-45e1-d0cb-e4689bc53e1a"
      },
      "source": [
        "model=get_cnn_v5((32, 32, 1), num_classes)\n",
        "model_trained = train_model(model, X_train_gray, y_train, params_fit={})\n",
        "predict(model_trained, X_test_gray, y_test)"
      ],
      "execution_count": 54,
      "outputs": [
        {
          "output_type": "stream",
          "text": [
            "Epoch 1/5\n",
            "272/272 [==============================] - 4s 14ms/step - loss: 2.6811 - accuracy: 0.2400 - val_loss: 0.8670 - val_accuracy: 0.7318\n",
            "Epoch 2/5\n",
            "272/272 [==============================] - 4s 13ms/step - loss: 0.6009 - accuracy: 0.8079 - val_loss: 0.1393 - val_accuracy: 0.9631\n",
            "Epoch 3/5\n",
            "272/272 [==============================] - 4s 13ms/step - loss: 0.2481 - accuracy: 0.9229 - val_loss: 0.0604 - val_accuracy: 0.9828\n",
            "Epoch 4/5\n",
            "272/272 [==============================] - 4s 13ms/step - loss: 0.1588 - accuracy: 0.9509 - val_loss: 0.0330 - val_accuracy: 0.9903\n",
            "Epoch 5/5\n",
            "272/272 [==============================] - 4s 13ms/step - loss: 0.1163 - accuracy: 0.9643 - val_loss: 0.0253 - val_accuracy: 0.9925\n"
          ],
          "name": "stdout"
        },
        {
          "output_type": "execute_result",
          "data": {
            "text/plain": [
              "0.9736961451247166"
            ]
          },
          "metadata": {
            "tags": []
          },
          "execution_count": 54
        }
      ]
    }
  ]
}